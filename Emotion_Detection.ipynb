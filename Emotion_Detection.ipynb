{
  "cells": [
    {
      "cell_type": "markdown",
      "metadata": {
        "id": "view-in-github",
        "colab_type": "text"
      },
      "source": [
        "<a href=\"https://colab.research.google.com/github/AnkushSingh76/Moodify/blob/main/Emotion_Detection.ipynb\" target=\"_parent\"><img src=\"https://colab.research.google.com/assets/colab-badge.svg\" alt=\"Open In Colab\"/></a>"
      ]
    },
    {
      "cell_type": "code",
      "execution_count": null,
      "metadata": {
        "id": "A2OjKSHzblUC"
      },
      "outputs": [],
      "source": [
        "!mkdir -p ~/.kaggle\n",
        "!cp kaggle.json ~/.kaggle/"
      ]
    },
    {
      "cell_type": "code",
      "execution_count": null,
      "metadata": {
        "id": "XWov95v__TFY"
      },
      "outputs": [],
      "source": [
        "!kaggle datasets download -d msambare/fer2013"
      ]
    },
    {
      "cell_type": "code",
      "execution_count": null,
      "metadata": {
        "id": "CeL-oMlPImSN"
      },
      "outputs": [],
      "source": [
        "import zipfile\n",
        "zip_ref=zipfile.ZipFile('/content/fer2013.zip','r')\n",
        "zip_ref.extractall('/content')\n",
        "zip_ref.close()"
      ]
    },
    {
      "cell_type": "code",
      "execution_count": null,
      "metadata": {
        "id": "y-qH_B7e_TKu"
      },
      "outputs": [],
      "source": [
        "import os\n",
        "import random\n",
        "import numpy as np\n",
        "import pandas as pd\n",
        "import matplotlib.pyplot as plt\n",
        "import cv2\n",
        "import imghdr\n",
        "import tensorflow as tf\n",
        "from PIL import Image\n",
        "import seaborn as sns\n",
        "\n",
        "from sklearn.metrics import confusion_matrix, classification_report, roc_curve, auc\n",
        "from sklearn.utils.class_weight import compute_class_weight\n",
        "\n",
        "from tensorflow.keras import layers, models, regularizers, optimizers\n",
        "from tensorflow.keras.applications import VGG16, ResNet50V2\n",
        "from tensorflow.keras.callbacks import ModelCheckpoint, EarlyStopping, ReduceLROnPlateau, TensorBoard, CSVLogger\n",
        "from tensorflow.keras.layers import Conv2D, MaxPooling2D, BatchNormalization, Dropout, Flatten, Dense, Activation, GlobalAveragePooling2D\n",
        "from tensorflow.keras.models import Sequential, Model\n",
        "from tensorflow.keras.optimizers import Adam, Adamax\n",
        "from tensorflow.keras.preprocessing.image import ImageDataGenerator, load_img, img_to_array\n",
        "from keras.utils import plot_model"
      ]
    },
    {
      "cell_type": "code",
      "execution_count": null,
      "metadata": {
        "id": "etigS_1n_TNO"
      },
      "outputs": [],
      "source": [
        "#Making Four Directories for different methods\n",
        "project_name='Emotion_Detection'\n",
        "model_names = [\n",
        "    'Custom_CNN_From_Scratch',\n",
        "    'Custom_CNN_With_Augmentation',\n",
        "    'VGG16_Transfer_Learning',\n",
        "    'ResNet50_Transfer_Learning'\n",
        "]\n",
        "base_dir='/content/data'\n",
        "\n",
        "project_dir=os.path.join('/content', project_name)\n",
        "if not os.path.exists(project_dir):\n",
        "  os.mkdir(project_dir)\n",
        "\n",
        "for each_model in model_names:\n",
        "  model_dir=os.path.join(project_dir,each_model)\n",
        "  if not os.path.exists(model_dir):\n",
        "    os.mkdir(model_dir)"
      ]
    },
    {
      "cell_type": "code",
      "execution_count": null,
      "metadata": {
        "id": "9WKmvhB7_TQx"
      },
      "outputs": [],
      "source": [
        "#Data Cleaning\n",
        " #Image which are not either of \"jpeg\", \"jpg\", \"png\" are removed\n",
        "image_exts = ['jpeg', 'jpg', 'png']\n",
        "data_dir = '/content/train'\n",
        "\n",
        "for root, dirs, files in os.walk(data_dir):\n",
        "    for file in files:\n",
        "        file_path = os.path.join(root, file)\n",
        "\n",
        "        try:\n",
        "            file_type = imghdr.what(file_path) #\"imghdr\" checks the image type\n",
        "\n",
        "            if file_type not in image_exts:\n",
        "                print(f'Image not in ext list {file_path}')\n",
        "                os.remove(file_path)\n",
        "            else:\n",
        "                img = cv2.imread(file_path)\n",
        "\n",
        "        except Exception as e:\n",
        "            print(f'Issue with file {file_path}. Error: {e}')\n",
        "            os.remove(file_path)"
      ]
    },
    {
      "cell_type": "code",
      "execution_count": null,
      "metadata": {
        "id": "HpSglIcTKjz3"
      },
      "outputs": [],
      "source": [
        "os.listdir('/content/train')"
      ]
    },
    {
      "cell_type": "code",
      "execution_count": null,
      "metadata": {
        "id": "aNDQXO1DJxs4"
      },
      "outputs": [],
      "source": [
        "def count_files(directory,set_names):\n",
        "  count={}\n",
        "  for item in os.listdir(directory):\n",
        "    item_path=os.path.join(directory,item)\n",
        "    if os.path.isdir(item_path):\n",
        "      count[item]=len(os.listdir(item_path))\n",
        "  df=pd.DataFrame(count,index=[set_names])\n",
        "  return df"
      ]
    },
    {
      "cell_type": "code",
      "execution_count": null,
      "metadata": {
        "id": "QMVgUJuPLRjD"
      },
      "outputs": [],
      "source": [
        "train_dir='/content/train'\n",
        "train_count=count_files(train_dir,'train')\n",
        "train_count"
      ]
    },
    {
      "cell_type": "code",
      "execution_count": null,
      "metadata": {
        "id": "hb_RmsxdLYxS"
      },
      "outputs": [],
      "source": [
        "test_dir='/content/test'\n",
        "test_count=count_files(test_dir,'test')\n",
        "test_count"
      ]
    },
    {
      "cell_type": "code",
      "execution_count": null,
      "metadata": {
        "id": "a6BMZjHANb0M"
      },
      "outputs": [],
      "source": [
        "train_count.transpose().plot(kind='bar') #Unbalanced data"
      ]
    },
    {
      "cell_type": "code",
      "execution_count": null,
      "metadata": {
        "id": "zugV-Fo_N1pA"
      },
      "outputs": [],
      "source": [
        "test_count.transpose().plot(kind='bar')"
      ]
    },
    {
      "cell_type": "code",
      "execution_count": null,
      "metadata": {
        "id": "njcjKsEMOoCE"
      },
      "outputs": [],
      "source": [
        "#plotting image from each category\n",
        "emotions=os.listdir('/content/train')\n",
        "for i,emotion in enumerate(emotions):\n",
        "  emotion_dir=os.path.join(train_dir,emotion)\n",
        "  img_path=os.path.join(emotion_dir,os.listdir(emotion_dir)[89])\n",
        "  plt.subplot(1,7,i+1)\n",
        "  image=plt.imread(img_path)\n",
        "  plt.imshow(image,cmap='gray')\n",
        "  plt.title(emotion)\n",
        "  plt.axis('off')"
      ]
    },
    {
      "cell_type": "markdown",
      "source": [
        "# Building Custom CNN Model"
      ],
      "metadata": {
        "id": "eVfnZ2ZFgpHj"
      }
    },
    {
      "cell_type": "code",
      "execution_count": null,
      "metadata": {
        "id": "2YgSXSEeOrRw"
      },
      "outputs": [],
      "source": [
        "train_dir='/content/train'\n",
        "test_dir='/content/test'"
      ]
    },
    {
      "cell_type": "code",
      "execution_count": null,
      "metadata": {
        "id": "oyF9aHKuOrUg"
      },
      "outputs": [],
      "source": [
        "#Rescaling pixel value\n",
        "data_generator=ImageDataGenerator(rescale=1./255,validation_split=0.2)\n",
        "\n",
        "# Automatically retrieve images and their classes for train and validation sets\n",
        "train_generator=data_generator.flow_from_directory(\n",
        "    train_dir,\n",
        "    target_size=(48,48),\n",
        "    color_mode='grayscale',\n",
        "    batch_size=64,\n",
        "    class_mode='categorical',\n",
        "    shuffle=True,\n",
        "    subset='training')\n",
        "\n",
        "validation_generator=data_generator.flow_from_directory(\n",
        "    test_dir,\n",
        "    target_size=(48,48),\n",
        "    color_mode='grayscale',\n",
        "    batch_size=64,\n",
        "    class_mode='categorical',\n",
        "    shuffle=True,\n",
        "    subset='validation')\n",
        "\n",
        "test_generator=data_generator.flow_from_directory(\n",
        "    test_dir,\n",
        "    target_size=(48,48),\n",
        "    color_mode='grayscale',\n",
        "    batch_size=64,\n",
        "    class_mode='categorical')"
      ]
    },
    {
      "cell_type": "code",
      "execution_count": null,
      "metadata": {
        "id": "4jPaTBsROrXc"
      },
      "outputs": [],
      "source": [
        "print(train_generator.class_indices)"
      ]
    },
    {
      "cell_type": "code",
      "execution_count": null,
      "metadata": {
        "id": "fqpfMXFrOraw"
      },
      "outputs": [],
      "source": [
        "#Initializing the CNN\n",
        "model=Sequential()\n",
        "model.add(Conv2D(32, kernel_size=(3, 3),kernel_initializer=\"glorot_uniform\", padding='same', input_shape=(48, 48, 1),activation='relu'))\n",
        "model.add(Conv2D(64, kernel_size=(3, 3), padding='same',activation='relu'))\n",
        "model.add(BatchNormalization())\n",
        "model.add(MaxPooling2D(2, 2))\n",
        "model.add(Dropout(0.25))\n",
        "\n",
        "model.add(Conv2D(128, kernel_size=(3, 3), padding='same', kernel_regularizer=regularizers.l2(0.01),activation='relu'))\n",
        "model.add(Conv2D(256, kernel_size=(3, 3), kernel_regularizer=regularizers.l2(0.01),activation='relu'))\n",
        "model.add(BatchNormalization())\n",
        "model.add(MaxPooling2D(pool_size=(2, 2)))\n",
        "model.add(Dropout(0.25))\n",
        "\n",
        "model.add(Conv2D(512, kernel_size=(3, 3), padding='same', kernel_regularizer=regularizers.l2(0.01),activation='relu'))\n",
        "model.add(Conv2D(512, kernel_size=(3, 3), padding='same', kernel_regularizer=regularizers.l2(0.01),activation='relu'))\n",
        "model.add(BatchNormalization())\n",
        "model.add(MaxPooling2D(pool_size=(2, 2)))\n",
        "model.add(Dropout(0.25))\n",
        "\n",
        "model.add(Flatten())\n",
        "model.add(Dense(1024,activation='relu'))\n",
        "model.add(Dropout(0.5))\n",
        "\n",
        "model.add(Dense(7,activation='softmax'))"
      ]
    },
    {
      "cell_type": "code",
      "execution_count": null,
      "metadata": {
        "id": "mQGSatzsp6jT"
      },
      "outputs": [],
      "source": [
        "model.summary()"
      ]
    },
    {
      "cell_type": "code",
      "execution_count": null,
      "metadata": {
        "id": "CwNppyx3qZjM"
      },
      "outputs": [],
      "source": [
        "model.compile(optimizer='adam',loss='categorical_crossentropy',metrics=['accuracy'])"
      ]
    },
    {
      "cell_type": "code",
      "execution_count": null,
      "metadata": {
        "id": "b5UtoTIRvmJT"
      },
      "outputs": [],
      "source": [
        "plot_model(model, to_file='model_plot.png', show_shapes=True, show_layer_names=True)"
      ]
    },
    {
      "cell_type": "code",
      "execution_count": null,
      "metadata": {
        "id": "CCuUmyMYwF1n"
      },
      "outputs": [],
      "source": [
        "cnn_path = '/content/Emotion_Detection/Custom_CNN_From_Scratch'\n",
        "name = 'Custom_CNN_model.keras'\n",
        "chk_path = os.path.join(cnn_path, name)\n",
        "\n",
        "#Setting different callbacks\n",
        "checkpoint = ModelCheckpoint(filepath=chk_path,\n",
        "                             save_best_only=True,\n",
        "                             verbose=1,\n",
        "                             mode='min',\n",
        "                             monitor='val_loss')"
      ]
    },
    {
      "cell_type": "code",
      "execution_count": null,
      "metadata": {
        "id": "SeswlbAZwF4P"
      },
      "outputs": [],
      "source": [
        "earlystop = EarlyStopping(monitor='val_loss',\n",
        "                          min_delta=0,\n",
        "                          patience=3,\n",
        "                          verbose=1,\n",
        "                          restore_best_weights=True)"
      ]
    },
    {
      "cell_type": "code",
      "execution_count": null,
      "metadata": {
        "id": "3QpiLx3qwF64"
      },
      "outputs": [],
      "source": [
        "reduce_lr = ReduceLROnPlateau(monitor='val_loss',\n",
        "                              factor=0.2,\n",
        "                              patience=6,\n",
        "                              verbose=1,\n",
        "                              min_delta=0.0001)"
      ]
    },
    {
      "cell_type": "code",
      "execution_count": null,
      "metadata": {
        "id": "dmZAF2uYwF-R"
      },
      "outputs": [],
      "source": [
        "csv_logger = CSVLogger(os.path.join(cnn_path,'training.log'))"
      ]
    },
    {
      "cell_type": "code",
      "execution_count": null,
      "metadata": {
        "id": "XSaZmp_R3BuA"
      },
      "outputs": [],
      "source": [
        "callbacks = [checkpoint, earlystop, reduce_lr, csv_logger]"
      ]
    },
    {
      "cell_type": "code",
      "execution_count": null,
      "metadata": {
        "id": "V8dI-NDj8xG5"
      },
      "outputs": [],
      "source": [
        "train_steps_per_epoch = train_generator.samples // train_generator.batch_size + 1\n",
        "validation_steps_epoch = validation_generator.samples // validation_generator.batch_size + 1\n",
        "test_steps_epoch = test_generator.samples // test_generator.batch_size + 1"
      ]
    },
    {
      "cell_type": "code",
      "execution_count": null,
      "metadata": {
        "id": "CeqYs5f63Bwm"
      },
      "outputs": [],
      "source": [
        "#model training\n",
        "history = model.fit(\n",
        "    train_generator,\n",
        "    steps_per_epoch=train_steps_per_epoch,\n",
        "    epochs=10,\n",
        "    validation_data=validation_generator,\n",
        "    validation_steps=validation_steps_epoch,\n",
        "    callbacks=callbacks)"
      ]
    },
    {
      "cell_type": "code",
      "execution_count": null,
      "metadata": {
        "id": "4gZwmovz3BzD"
      },
      "outputs": [],
      "source": [
        "plt.plot(history.history['accuracy'])\n",
        "plt.plot(history.history['val_accuracy'])\n",
        "plt.title('model accuracy')\n",
        "plt.ylabel('accuracy')\n",
        "plt.xlabel('epoch')\n",
        "plt.legend(['train', 'val'], loc='upper left')\n",
        "plt.show()"
      ]
    },
    {
      "cell_type": "code",
      "execution_count": null,
      "metadata": {
        "id": "s2B2TtXE3B2f"
      },
      "outputs": [],
      "source": [
        "plt.plot(history.history['loss'])\n",
        "plt.plot(history.history['val_loss'])\n",
        "plt.title('model loss')\n",
        "plt.ylabel('loss')\n",
        "plt.xlabel('epoch')\n",
        "plt.legend(['train', 'val'], loc='upper left')\n",
        "plt.show()"
      ]
    },
    {
      "cell_type": "code",
      "source": [
        "actual_classes=test_generator.classes\n",
        "predicted_classes=np.argmax(model.predict(test_generator,steps=np.ceil(test_generator.samples/test_generator.batch_size)),axis=1)\n",
        "class_labels=test_generator.class_indices.keys()\n",
        "cm=confusion_matrix(actual_classes,predicted_classes)"
      ],
      "metadata": {
        "id": "QMNpXJd6I6sz"
      },
      "execution_count": null,
      "outputs": []
    },
    {
      "cell_type": "code",
      "source": [
        "sns.heatmap(cm,annot=True,fmt='d',cmap='Blues',xticklabels=class_labels,yticklabels=class_labels)\n",
        "plt.xlabel('Predicted')\n",
        "plt.ylabel('Actual')\n",
        "plt.show()"
      ],
      "metadata": {
        "id": "C2N8K0OzUOST"
      },
      "execution_count": null,
      "outputs": []
    },
    {
      "cell_type": "code",
      "source": [
        "report=classification_report(actual_classes,predicted_classes,target_names=class_labels)\n",
        "print(report)"
      ],
      "metadata": {
        "id": "4KsjcuOEVYvw"
      },
      "execution_count": null,
      "outputs": []
    },
    {
      "cell_type": "markdown",
      "source": [
        "# Using Image Augmentation"
      ],
      "metadata": {
        "id": "Hm9sBFqpJcB7"
      }
    },
    {
      "cell_type": "code",
      "source": [
        "train_data_dir='/content/train'\n",
        "test_data_dir='/content/test'\n",
        "\n",
        "data_generator=ImageDataGenerator(\n",
        "    rescale=1./255,\n",
        "    rotation_range=40,\n",
        "    width_shift_range=0.2,\n",
        "    height_shift_range=0.2,\n",
        "    shear_range=0.2,\n",
        "    zoom_range=0.2,\n",
        "    horizontal_flip=True,\n",
        "    fill_mode='nearest',\n",
        "    validation_split=0.2)"
      ],
      "metadata": {
        "id": "KsPDygjpdJXp"
      },
      "execution_count": null,
      "outputs": []
    },
    {
      "cell_type": "code",
      "source": [
        "test_data_generator = ImageDataGenerator(rescale=1./255)\n",
        "\n",
        "train_generator = data_generator.flow_from_directory(\n",
        "    train_data_dir,\n",
        "    target_size=(48,48),\n",
        "    batch_size=64,\n",
        "    class_mode='categorical',\n",
        "    color_mode='grayscale',\n",
        "    subset='training')\n",
        "\n",
        "validation_generator = data_generator.flow_from_directory(\n",
        "    train_data_dir,\n",
        "    target_size=(48,48),\n",
        "    batch_size=64,\n",
        "    class_mode='categorical',\n",
        "    color_mode='grayscale',\n",
        "    subset='validation')\n",
        "\n",
        "test_generator = test_data_generator.flow_from_directory(\n",
        "    test_data_dir,\n",
        "    target_size=(48,48),\n",
        "    batch_size=64,\n",
        "    class_mode='categorical',\n",
        "    color_mode='grayscale'\n",
        "    )"
      ],
      "metadata": {
        "id": "AjtL2Z6pofNE"
      },
      "execution_count": null,
      "outputs": []
    },
    {
      "cell_type": "code",
      "source": [
        "img_width, img_height = 48, 48\n",
        "batch_size = 64\n",
        "epochs = 10\n",
        "num_classes = 7"
      ],
      "metadata": {
        "id": "-JIMnSPMDOb_"
      },
      "execution_count": null,
      "outputs": []
    },
    {
      "cell_type": "code",
      "source": [
        "#Checking for augmentation\n",
        "image_path = '/content/train/angry/Training_10118481.jpg'\n",
        "\n",
        "img = load_img(image_path, color_mode='grayscale', target_size=(img_width, img_height))\n",
        "img_array = img_to_array(img)\n",
        "img_array = img_array.reshape((1,) + img_array.shape)\n",
        "\n",
        "fig, axes = plt.subplots(nrows=1, ncols=5, figsize=(10, 4))\n",
        "axes[0].imshow(img_array[0, :, :, 0], cmap='gray')\n",
        "axes[0].set_title('Original Image')\n",
        "axes[0].axis('off')\n",
        "\n",
        "for i, ax in enumerate(axes.flat[1:]):\n",
        "    aug_iter = data_generator.flow(img_array, batch_size=1)\n",
        "    aug_img = next(aug_iter)[0]\n",
        "    ax.imshow(aug_img[:, :, 0], cmap='gray')\n",
        "    ax.set_title(f'Augmented Image {i+1}')\n",
        "    ax.axis('off')\n",
        "\n",
        "plt.tight_layout()\n",
        "plt.show()"
      ],
      "metadata": {
        "id": "tLfjOKnGrTuL"
      },
      "execution_count": null,
      "outputs": []
    },
    {
      "cell_type": "code",
      "source": [
        "#Initializing CNN model\n",
        "model=Sequential()\n",
        "model.add(Conv2D(32, kernel_size=(3, 3),kernel_initializer=\"glorot_uniform\", padding='same', input_shape=(48, 48, 1)))\n",
        "model.add(Activation('relu'))\n",
        "model.add(Conv2D(64, kernel_size=(3, 3), padding='same'))\n",
        "model.add(Activation('relu'))\n",
        "model.add(BatchNormalization())\n",
        "model.add(MaxPooling2D(2, 2))\n",
        "model.add(Dropout(0.25))\n",
        "\n",
        "model.add(Conv2D(128, kernel_size=(3, 3), padding='same', kernel_regularizer=regularizers.l2(0.01),activation='relu'))\n",
        "model.add(Conv2D(256, kernel_size=(3, 3), kernel_regularizer=regularizers.l2(0.01),activation='relu'))\n",
        "model.add(BatchNormalization())\n",
        "model.add(MaxPooling2D(pool_size=(2, 2)))\n",
        "model.add(Dropout(0.25))\n",
        "\n",
        "model.add(Conv2D(512, kernel_size=(3, 3), padding='same', kernel_regularizer=regularizers.l2(0.01),activation='relu'))\n",
        "model.add(Conv2D(512, kernel_size=(3, 3), padding='same', kernel_regularizer=regularizers.l2(0.01),activation='relu'))\n",
        "model.add(BatchNormalization())\n",
        "model.add(MaxPooling2D(pool_size=(2, 2)))\n",
        "model.add(Dropout(0.25))\n",
        "\n",
        "model.add(Flatten())\n",
        "model.add(Dense(1024,activation='relu'))\n",
        "model.add(Dropout(0.5))\n",
        "\n",
        "model.add(Dense(7,activation='softmax'))"
      ],
      "metadata": {
        "id": "gjrU8t44JXHX"
      },
      "execution_count": null,
      "outputs": []
    },
    {
      "cell_type": "code",
      "source": [
        "model.compile(optimizer='adam',loss='categorical_crossentropy',metrics=['accuracy'])"
      ],
      "metadata": {
        "id": "UWqe4REeJXKH"
      },
      "execution_count": null,
      "outputs": []
    },
    {
      "cell_type": "code",
      "source": [
        "model.summary()"
      ],
      "metadata": {
        "id": "nq5lzEdpJznc"
      },
      "execution_count": null,
      "outputs": []
    },
    {
      "cell_type": "code",
      "source": [
        "#Implementing Callbacks\n",
        "cnn_path = '/content/Emotion_Detection/Custom_CNN_With_Augmentation'\n",
        "name = 'Custom_CNN_augmented_model.keras'\n",
        "chk_path = os.path.join(cnn_path, name)\n",
        "checkpoint = ModelCheckpoint(filepath=chk_path,\n",
        "                             save_best_only=True,\n",
        "                             verbose=1,\n",
        "                             mode='min',\n",
        "                             monitor='val_loss')"
      ],
      "metadata": {
        "id": "-Zld5eBRJXM-"
      },
      "execution_count": null,
      "outputs": []
    },
    {
      "cell_type": "code",
      "source": [
        "earlystop = EarlyStopping(monitor='val_loss',\n",
        "                          min_delta=0,\n",
        "                          patience=3,\n",
        "                          verbose=1,\n",
        "                          restore_best_weights=True)"
      ],
      "metadata": {
        "id": "1sTaEoPfJXPy"
      },
      "execution_count": null,
      "outputs": []
    },
    {
      "cell_type": "code",
      "source": [
        "reduce_lr = ReduceLROnPlateau(monitor='val_loss',\n",
        "                              factor=0.2,\n",
        "                              patience=6,\n",
        "                              verbose=1,\n",
        "                              min_delta=0.0001)"
      ],
      "metadata": {
        "id": "yoH3qqiyJXSg"
      },
      "execution_count": null,
      "outputs": []
    },
    {
      "cell_type": "code",
      "source": [
        "csv_logger = CSVLogger(os.path.join(cnn_path,'training.log'))"
      ],
      "metadata": {
        "id": "0OKdm-e8JXVZ"
      },
      "execution_count": null,
      "outputs": []
    },
    {
      "cell_type": "code",
      "source": [
        "callbacks = [checkpoint, earlystop, reduce_lr, csv_logger]"
      ],
      "metadata": {
        "id": "McqyuTjLJXYx"
      },
      "execution_count": null,
      "outputs": []
    },
    {
      "cell_type": "code",
      "source": [
        "train_steps_per_epoch = train_generator.samples // train_generator.batch_size + 1\n",
        "validation_steps_epoch = validation_generator.samples // validation_generator.batch_size + 1\n",
        "test_steps_epoch = test_generator.samples // test_generator.batch_size + 1"
      ],
      "metadata": {
        "id": "NG8A2QhxKXU-"
      },
      "execution_count": null,
      "outputs": []
    },
    {
      "cell_type": "code",
      "source": [
        "#Training the model\n",
        "history = model.fit(\n",
        "    train_generator,\n",
        "    steps_per_epoch=train_steps_per_epoch,\n",
        "    epochs=100,\n",
        "    validation_data=validation_generator,\n",
        "    validation_steps=validation_steps_epoch,\n",
        "    callbacks=callbacks)"
      ],
      "metadata": {
        "id": "Aopke8wQKXXp"
      },
      "execution_count": null,
      "outputs": []
    },
    {
      "cell_type": "code",
      "source": [
        "plt.plot(history.history['accuracy'])\n",
        "plt.plot(history.history['val_accuracy'])\n",
        "plt.title('model accuracy')\n",
        "plt.ylabel('accuracy')\n",
        "plt.xlabel('epoch')\n",
        "plt.legend(['train', 'val'], loc='upper left')\n",
        "plt.show()"
      ],
      "metadata": {
        "id": "-Ot9Mk8WKXae"
      },
      "execution_count": null,
      "outputs": []
    },
    {
      "cell_type": "code",
      "source": [
        "plt.plot(history.history['loss'])\n",
        "plt.plot(history.history['val_loss'])\n",
        "plt.title('model loss')\n",
        "plt.ylabel('loss')\n",
        "plt.xlabel('epoch')\n",
        "plt.legend(['train', 'val'], loc='upper left')\n",
        "plt.show()"
      ],
      "metadata": {
        "id": "ieeab5bKKXdN"
      },
      "execution_count": null,
      "outputs": []
    },
    {
      "cell_type": "code",
      "source": [
        "actual_classes=test_generator.classes\n",
        "predicted_classes=np.argmax(model.predict(test_generator,steps=np.ceil(test_generator.samples/test_generator.batch_size)),axis=1)\n",
        "class_labels=test_generator.class_indices.keys()\n",
        "cm=confusion_matrix(actual_classes,predicted_classes)"
      ],
      "metadata": {
        "id": "n7hLGKNrKXgb"
      },
      "execution_count": null,
      "outputs": []
    },
    {
      "cell_type": "code",
      "source": [
        "sns.heatmap(cm,annot=True,fmt='d',cmap='Blues',xticklabels=class_labels,yticklabels=class_labels)\n",
        "plt.xlabel('Predicted')\n",
        "plt.ylabel('Actual')\n",
        "plt.show()"
      ],
      "metadata": {
        "id": "YEtWCCr9K8K5"
      },
      "execution_count": null,
      "outputs": []
    },
    {
      "cell_type": "code",
      "source": [
        "report=classification_report(actual_classes,predicted_classes,target_names=class_labels)\n",
        "print(report)"
      ],
      "metadata": {
        "id": "Cd_FCuRIK8OB"
      },
      "execution_count": null,
      "outputs": []
    },
    {
      "cell_type": "markdown",
      "source": [
        "# Using VGGNET"
      ],
      "metadata": {
        "id": "ZVkj5G_6NWW1"
      }
    },
    {
      "cell_type": "code",
      "source": [
        "train_data_dir = '/content/train'\n",
        "test_data_dir = '/content/test'\n",
        "\n",
        "img_width, img_height = 224, 224\n",
        "batch_size = 64\n",
        "epochs = 10\n",
        "num_classes = 7\n",
        "\n",
        "data_generator = ImageDataGenerator(\n",
        "                                rescale = 1 / 255.,\n",
        "                                rotation_range=10,\n",
        "                                zoom_range=0.2,\n",
        "                                width_shift_range=0.1,\n",
        "                                height_shift_range=0.1,\n",
        "                                horizontal_flip=True,\n",
        "                                fill_mode='nearest',\n",
        "                                # validation_split=0.2\n",
        "                                )\n",
        "\n",
        "test_preprocessor = ImageDataGenerator(\n",
        "    rescale = 1 / 255.,\n",
        ")\n",
        "\n",
        "# Automatically retrieve images and their classes for train and validation sets\n",
        "train_generator = data_generator.flow_from_directory(\n",
        "                                train_data_dir,\n",
        "                                target_size=(img_width, img_height),\n",
        "                                batch_size=batch_size,\n",
        "                                class_mode='categorical',\n",
        "                                color_mode='rgb',\n",
        "                                subset='training',\n",
        "                                shuffle = True)\n",
        "\n",
        "test_generator = test_preprocessor.flow_from_directory(\n",
        "                                test_data_dir,\n",
        "                                target_size=(img_width, img_height),\n",
        "                                batch_size=batch_size,\n",
        "                                class_mode='categorical',\n",
        "                                color_mode='rgb',)"
      ],
      "metadata": {
        "id": "-gjgjc4kK8Qo"
      },
      "execution_count": null,
      "outputs": []
    },
    {
      "cell_type": "code",
      "source": [
        "# Extract class labels for all instances in the training dataset\n",
        "classes = np.array(train_generator.classes)\n",
        "\n",
        "# Calculating class weights to handle imbalances in the training data\n",
        "# 'balanced' mode automatically adjusts weights inversely proportional to class frequencies\n",
        "class_weights = compute_class_weight(\n",
        "    class_weight='balanced',\n",
        "    classes=np.unique(classes),\n",
        "    y=classes\n",
        ")\n",
        "\n",
        "class_weights_dict = dict(enumerate(class_weights))\n",
        "\n",
        "print(\"Class Weights Dictionary:\", class_weights_dict)"
      ],
      "metadata": {
        "id": "yG-_B9KAK8To"
      },
      "execution_count": null,
      "outputs": []
    },
    {
      "cell_type": "code",
      "source": [
        "train_generator.class_indices"
      ],
      "metadata": {
        "id": "SPwsdUMfK8W8"
      },
      "execution_count": null,
      "outputs": []
    },
    {
      "cell_type": "code",
      "source": [
        "classes = 7\n",
        "\n",
        "# Clear the previous TensorFlow sessionx\n",
        "tf.keras.backend.clear_session()\n",
        "\n",
        "# Load the VGG16 base model, excluding its top (fully connected) layers\n",
        "vgg = VGG16(input_shape=(224, 224, 3), include_top=False, weights='imagenet')\n",
        "vgg.summary()"
      ],
      "metadata": {
        "id": "N5fBzEAud21Z"
      },
      "execution_count": null,
      "outputs": []
    },
    {
      "cell_type": "code",
      "source": [
        "# Make the specified layers non-trainable\n",
        "for layer in vgg.layers[:-3]:\n",
        "    layer.trainable = False\n",
        "\n",
        "vgg.summary()"
      ],
      "metadata": {
        "id": "9yVLvKTMd24B"
      },
      "execution_count": null,
      "outputs": []
    },
    {
      "cell_type": "code",
      "source": [
        "x = Flatten()(vgg.output)\n",
        "\n",
        "x = Dense(1024, activation='relu', kernel_initializer='he_normal')(x)\n",
        "x = Dropout(0.5)(x)\n",
        "x = Dense(512, activation='relu', kernel_initializer='he_normal')(x)\n",
        "x = Dropout(0.5)(x)\n",
        "output = Dense(7, activation='softmax', kernel_initializer='he_normal')(x)\n",
        "\n",
        "model = Model(inputs=vgg.input, outputs=output)\n",
        "\n",
        "model.compile(loss='categorical_crossentropy',\n",
        "              optimizer=tf.keras.optimizers.Adam(learning_rate=0.0001, beta_1=0.9, beta_2=0.999, amsgrad=False),\n",
        "              metrics=['accuracy'])\n",
        "\n",
        "model.summary()"
      ],
      "metadata": {
        "id": "5zZLjmBjd263"
      },
      "execution_count": null,
      "outputs": []
    },
    {
      "cell_type": "code",
      "source": [
        "cnn_path = '/content/FER_2013_Emotion_Detection/VGG16_Transfer_Learning'\n",
        "name = 'VGG16_Transfer_Learning.keras'\n",
        "chk_path = os.path.join(cnn_path, name)\n",
        "\n",
        "checkpoint = ModelCheckpoint(filepath=chk_path,\n",
        "                             save_best_only=True,\n",
        "                             verbose=1,\n",
        "                             mode='min',\n",
        "                             monitor='val_loss')\n",
        "\n",
        "earlystop = EarlyStopping(monitor='val_loss',\n",
        "                          min_delta=0,\n",
        "                          patience=3,\n",
        "                          verbose=1,\n",
        "                          restore_best_weights=True)\n",
        "\n",
        "reduce_lr = ReduceLROnPlateau(monitor='val_loss',\n",
        "                              factor=0.2,\n",
        "                              patience=6,\n",
        "                              verbose=1,\n",
        "                              min_delta=0.0001)\n",
        "\n",
        "csv_logger = CSVLogger(os.path.join(cnn_path,'training.log'))\n",
        "callbacks = [checkpoint, earlystop, reduce_lr, csv_logger]\n",
        "\n",
        "train_steps_per_epoch = train_generator.samples // train_generator.batch_size + 1\n",
        "# validation_steps_epoch = validation_generator.samples // validation_generator.batch_size + 1\n",
        "test_steps_epoch = test_generator.samples // test_generator.batch_size + 1"
      ],
      "metadata": {
        "id": "i-NUGnl5d290"
      },
      "execution_count": null,
      "outputs": []
    },
    {
      "cell_type": "code",
      "source": [
        "history = model.fit(\n",
        "                    train_generator,\n",
        "                    steps_per_epoch=train_steps_per_epoch,\n",
        "                    epochs=10,\n",
        "                    validation_data=test_generator,\n",
        "                    validation_steps=test_steps_epoch,\n",
        "                    class_weight=class_weights_dict,\n",
        "                    callbacks = callbacks\n",
        "                    )"
      ],
      "metadata": {
        "id": "IBk-xmIqeKrN"
      },
      "execution_count": null,
      "outputs": []
    },
    {
      "cell_type": "code",
      "source": [
        "plt.plot(history.history['accuracy'])\n",
        "plt.plot(history.history['val_accuracy'])\n",
        "plt.title('model accuracy')\n",
        "plt.ylabel('accuracy')\n",
        "plt.xlabel('epoch')\n",
        "plt.legend(['train', 'val'], loc='upper left')\n",
        "plt.show()"
      ],
      "metadata": {
        "id": "n7TwbphceKty"
      },
      "execution_count": null,
      "outputs": []
    },
    {
      "cell_type": "code",
      "source": [
        "plt.plot(history.history['loss'])\n",
        "plt.plot(history.history['val_loss'])\n",
        "plt.title('model loss')\n",
        "plt.ylabel('loss')\n",
        "plt.xlabel('epoch')\n",
        "plt.legend(['train', 'val'], loc='upper left')\n",
        "plt.show()"
      ],
      "metadata": {
        "id": "7Kgoq8ZBPYfY"
      },
      "execution_count": null,
      "outputs": []
    },
    {
      "cell_type": "code",
      "source": [
        "true_classes = test_generator.classes\n",
        "predicted_classes = np.argmax(model.predict(test_generator, steps=np.ceil(test_generator.samples/test_generator.batch_size)), axis=1)\n",
        "class_labels = list(test_generator.class_indices.keys())\n",
        "\n",
        "cm = confusion_matrix(true_classes, predicted_classes)\n",
        "\n",
        "plt.figure(figsize=(10, 8))\n",
        "sns.heatmap(cm, annot=True, fmt=\"d\", cmap=\"Blues\", xticklabels=class_labels, yticklabels=class_labels)\n",
        "plt.title('Confusion Matrix')\n",
        "plt.ylabel('True label')\n",
        "plt.xlabel('Predicted label')\n",
        "plt.show()"
      ],
      "metadata": {
        "id": "evcdXxWZeKzI"
      },
      "execution_count": null,
      "outputs": []
    },
    {
      "cell_type": "code",
      "source": [
        "report = classification_report(true_classes,\n",
        "                               predicted_classes,\n",
        "                               target_names=class_labels,\n",
        "                               zero_division=0)\n",
        "print(report)"
      ],
      "metadata": {
        "id": "4xYVjFTQeK1s"
      },
      "execution_count": null,
      "outputs": []
    },
    {
      "cell_type": "markdown",
      "source": [
        "# Using ResNET50"
      ],
      "metadata": {
        "id": "zzuv1NM9Pii3"
      }
    },
    {
      "cell_type": "code",
      "source": [
        "train_dir = '/content/train'\n",
        "test_dir = '/content/test'\n",
        "\n",
        "batch_size = 64\n",
        "\n",
        "# Data augmentation configuration for training data\n",
        "train_datagen = ImageDataGenerator(\n",
        "                                  rescale=1 / 255.,\n",
        "                                  rotation_range=10,\n",
        "                                  zoom_range=0.2,\n",
        "                                  width_shift_range=0.1,\n",
        "                                  height_shift_range=0.1,\n",
        "                                  horizontal_flip=True,\n",
        "                                  fill_mode='nearest'\n",
        "                                 )\n",
        "\n",
        "test_datagen = ImageDataGenerator(\n",
        "                                  rescale=1 / 255.\n",
        "                                 )\n",
        "\n",
        "train_generator = train_datagen.flow_from_directory(\n",
        "                                                    train_dir,\n",
        "                                                    class_mode=\"categorical\",\n",
        "                                                    target_size=(224, 224),\n",
        "                                                    color_mode='rgb',\n",
        "                                                    shuffle=True,\n",
        "                                                    batch_size=batch_size,\n",
        "                                                    subset='training'\n",
        "                                                   )\n",
        "\n",
        "test_generator = test_datagen.flow_from_directory(\n",
        "                                                  test_dir,\n",
        "                                                  class_mode=\"categorical\",\n",
        "                                                  target_size=(224, 224),\n",
        "                                                  color_mode=\"rgb\",\n",
        "                                                  shuffle=False,\n",
        "                                                  batch_size=batch_size\n",
        "                                                 )"
      ],
      "metadata": {
        "id": "gjlr4ISueK4X"
      },
      "execution_count": null,
      "outputs": []
    },
    {
      "cell_type": "code",
      "source": [
        "classes = np.array(train_generator.classes)\n",
        "\n",
        "# Calculate class weights to handle imbalances in the training data\n",
        "# 'balanced' mode automatically adjusts weights inversely proportional to class frequencies\n",
        "class_weights = compute_class_weight(\n",
        "    class_weight='balanced',\n",
        "    classes=np.unique(classes),\n",
        "    y=classes\n",
        ")\n",
        "\n",
        "class_weights_dict = dict(enumerate(class_weights))\n",
        "print(\"Class Weights Dictionary:\", class_weights_dict)"
      ],
      "metadata": {
        "id": "EQcav1b6eK7B"
      },
      "execution_count": null,
      "outputs": []
    },
    {
      "cell_type": "code",
      "source": [
        "ResNet50V2 = tf.keras.applications.ResNet50V2(input_shape=(224, 224, 3),\n",
        "                                               include_top= False,\n",
        "                                               weights='imagenet'\n",
        "                                               )"
      ],
      "metadata": {
        "id": "1HdeAoQIeK-l"
      },
      "execution_count": null,
      "outputs": []
    },
    {
      "cell_type": "code",
      "source": [
        "ResNet50V2.trainable = True\n",
        "\n",
        "for layer in ResNet50V2.layers[:-50]:\n",
        "    layer.trainable = False"
      ],
      "metadata": {
        "id": "EhojDW9-efJr"
      },
      "execution_count": null,
      "outputs": []
    },
    {
      "cell_type": "code",
      "source": [
        "def Create_ResNet50V2_Model():\n",
        "\n",
        "    model = Sequential([\n",
        "                      ResNet50V2,\n",
        "                      Dropout(0.25),\n",
        "                      BatchNormalization(),\n",
        "                      Flatten(),\n",
        "                      Dense(64, activation='relu'),\n",
        "                      BatchNormalization(),\n",
        "                      Dropout(0.5),\n",
        "                      Dense(7,activation='softmax')\n",
        "                    ])\n",
        "    return model"
      ],
      "metadata": {
        "id": "ytIKkhP7efMS"
      },
      "execution_count": null,
      "outputs": []
    },
    {
      "cell_type": "code",
      "source": [
        "model = Create_ResNet50V2_Model()\n",
        "model.summary()"
      ],
      "metadata": {
        "id": "xBJBz7lIefPE"
      },
      "execution_count": null,
      "outputs": []
    },
    {
      "cell_type": "code",
      "source": [
        "model.compile(optimizer='adam', loss='categorical_crossentropy', metrics=['accuracy'])"
      ],
      "metadata": {
        "id": "yc4MUhL3efRs"
      },
      "execution_count": null,
      "outputs": []
    },
    {
      "cell_type": "code",
      "source": [
        "cnn_path = '/content/FER_2013_Emotion_Detection/ResNet50_Transfer_Learning'\n",
        "name = 'ResNet50_Transfer_Learning.keras'\n",
        "chk_path = os.path.join(cnn_path, name)\n",
        "\n",
        "checkpoint = ModelCheckpoint(filepath=chk_path,\n",
        "                             save_best_only=True,\n",
        "                             verbose=1,\n",
        "                             mode='min',\n",
        "                             monitor='val_loss')\n",
        "\n",
        "earlystop = EarlyStopping(monitor = 'val_accuracy',\n",
        "                          patience = 7,\n",
        "                          restore_best_weights = True,\n",
        "                          verbose=1)\n",
        "\n",
        "reduce_lr = ReduceLROnPlateau(monitor='val_loss',\n",
        "                              factor=0.2,\n",
        "                              patience=2,\n",
        "#                             min_lr=0.00005,\n",
        "                              verbose=1)\n",
        "\n",
        "csv_logger = CSVLogger(os.path.join(cnn_path,'training.log'))\n",
        "\n",
        "callbacks = [checkpoint, earlystop, csv_logger]\n",
        "\n",
        "train_steps_per_epoch = train_generator.samples // train_generator.batch_size + 1\n",
        "# validation_steps_epoch = validation_generator.samples // validation_generator.batch_size + 1\n",
        "test_steps_epoch = test_generator.samples // test_generator.batch_size + 1"
      ],
      "metadata": {
        "id": "uwTOmN9yefUa"
      },
      "execution_count": null,
      "outputs": []
    },
    {
      "cell_type": "code",
      "source": [
        "train_history = model.fit(\n",
        "                          train_generator,\n",
        "                          steps_per_epoch=train_steps_per_epoch,\n",
        "                          epochs=10,\n",
        "                          validation_data=test_generator,\n",
        "                          validation_steps=test_steps_epoch,\n",
        "                          class_weight=class_weights_dict,\n",
        "                          callbacks = callbacks\n",
        "                         )"
      ],
      "metadata": {
        "id": "3S5D1RMJefXF"
      },
      "execution_count": null,
      "outputs": []
    },
    {
      "cell_type": "code",
      "source": [
        "plt.plot(history.history['accuracy'])\n",
        "plt.plot(history.history['val_accuracy'])\n",
        "plt.title('model accuracy')\n",
        "plt.ylabel('accuracy')\n",
        "plt.xlabel('epoch')\n",
        "plt.legend(['train', 'val'], loc='upper left')\n",
        "plt.show()"
      ],
      "metadata": {
        "id": "riA_3_xTkxE6"
      },
      "execution_count": null,
      "outputs": []
    },
    {
      "cell_type": "code",
      "source": [
        "plt.plot(history.history['loss'])\n",
        "plt.plot(history.history['val_loss'])\n",
        "plt.title('model loss')\n",
        "plt.ylabel('loss')\n",
        "plt.xlabel('epoch')\n",
        "plt.legend(['train', 'val'], loc='upper left')\n",
        "plt.show()"
      ],
      "metadata": {
        "id": "VamdO0BpjcRI"
      },
      "execution_count": null,
      "outputs": []
    },
    {
      "cell_type": "code",
      "source": [
        "true_classes = test_generator.classes\n",
        "predicted_classes = np.argmax(model.predict(test_generator, steps=np.ceil(test_generator.samples/test_generator.batch_size)), axis=1)\n",
        "class_labels = list(test_generator.class_indices.keys())\n",
        "\n",
        "cm = confusion_matrix(true_classes, predicted_classes)\n",
        "\n",
        "plt.figure(figsize=(10, 8))\n",
        "sns.heatmap(cm, annot=True, fmt=\"d\", cmap=\"Blues\", xticklabels=class_labels, yticklabels=class_labels)\n",
        "plt.title('Confusion Matrix')\n",
        "plt.ylabel('True label')\n",
        "plt.xlabel('Predicted label')\n",
        "plt.show()"
      ],
      "metadata": {
        "id": "komLFG1OcWAW"
      },
      "execution_count": null,
      "outputs": []
    },
    {
      "cell_type": "code",
      "source": [
        "report = classification_report(true_classes,\n",
        "                               predicted_classes,\n",
        "                               target_names=class_labels,\n",
        "                               zero_division=0)\n",
        "print(report)"
      ],
      "metadata": {
        "id": "QoHhrZdPcWDA"
      },
      "execution_count": null,
      "outputs": []
    },
    {
      "cell_type": "code",
      "source": [],
      "metadata": {
        "id": "ccWj_fy6cWGZ"
      },
      "execution_count": null,
      "outputs": []
    }
  ],
  "metadata": {
    "accelerator": "GPU",
    "colab": {
      "gpuType": "T4",
      "provenance": [],
      "mount_file_id": "1EYFpujh73FMvockw55gPBDeQMQ4PBP6w",
      "authorship_tag": "ABX9TyNvUg4Z9iHLmF6Asm3JRGBD",
      "include_colab_link": true
    },
    "kernelspec": {
      "display_name": "Python 3",
      "name": "python3"
    },
    "language_info": {
      "name": "python"
    }
  },
  "nbformat": 4,
  "nbformat_minor": 0
}